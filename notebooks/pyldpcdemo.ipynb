{
 "cells": [
  {
   "cell_type": "code",
   "execution_count": 1,
   "metadata": {},
   "outputs": [
    {
     "name": "stdout",
     "output_type": "stream",
     "text": [
      "Processing /media/charles/SSD/Fuzzy Extractor and Fingerprint/pyldpc\n",
      "Requirement already satisfied: numpy in /home/charles/miniconda3/lib/python3.8/site-packages (from pyldpc==1.1.5) (1.19.2)\n",
      "Requirement already satisfied: scipy in /home/charles/miniconda3/lib/python3.8/site-packages (from pyldpc==1.1.5) (1.4.1)\n",
      "Requirement already satisfied: numba in /home/charles/miniconda3/lib/python3.8/site-packages (from pyldpc==1.1.5) (0.53.0)\n",
      "Requirement already satisfied: setuptools in /home/charles/miniconda3/lib/python3.8/site-packages (from numba->pyldpc==1.1.5) (46.4.0.post20200518)\n",
      "Requirement already satisfied: llvmlite<0.37,>=0.36.0rc1 in /home/charles/miniconda3/lib/python3.8/site-packages (from numba->pyldpc==1.1.5) (0.36.0)\n",
      "Building wheels for collected packages: pyldpc\n",
      "  Building wheel for pyldpc (setup.py) ... \u001b[?25ldone\n",
      "\u001b[?25h  Created wheel for pyldpc: filename=pyldpc-1.1.5-py3-none-any.whl size=16268 sha256=3330992309b3089d367f6985af9efee0308d7baa4628773bd13f9395e478ea23\n",
      "  Stored in directory: /tmp/pip-ephem-wheel-cache-hxrfqtw8/wheels/ea/3c/ee/110d4c98c20ce323971bbebafd1ba3ab27472b8b953d2d8219\n",
      "Successfully built pyldpc\n",
      "Installing collected packages: pyldpc\n",
      "  Attempting uninstall: pyldpc\n",
      "    Found existing installation: pyldpc 1.1.5\n",
      "    Uninstalling pyldpc-1.1.5:\n",
      "      Successfully uninstalled pyldpc-1.1.5\n",
      "Successfully installed pyldpc-1.1.5\n"
     ]
    }
   ],
   "source": [
    "!pip install ../pyldpc"
   ]
  },
  {
   "cell_type": "code",
   "execution_count": 1,
   "metadata": {},
   "outputs": [],
   "source": [
    "# Author: Hicham Janati (hicham.janati@inria.fr)\n",
    "#\n",
    "# License: BSD (3-clause)\n",
    "\n",
    "\n",
    "import numpy as np\n",
    "\n",
    "from matplotlib import pyplot as plt\n",
    "from PIL import Image\n",
    "\n",
    "from time import time\n",
    "import sys\n",
    "\n",
    "sys.path.append(\"../\")\n",
    "from pyldpc import make_ldpc, ldpc_images\n",
    "from pyldpc.utils_img import gray2bin, rgb2bin\n",
    "# from python_fuzzy_extractor.fuzzy_extractor import FuzzyExtractor\n",
    "from pyldpc.LDPC_FE_Util import LDPC_FE_Util\n"
   ]
  },
  {
   "cell_type": "code",
   "execution_count": 2,
   "metadata": {},
   "outputs": [
    {
     "name": "stdout",
     "output_type": "stream",
     "text": [
      "106\n"
     ]
    }
   ],
   "source": [
    "import numpy as np\n",
    "from pyldpc import make_ldpc, encode, decode, get_message\n",
    "n = 128 # code length\n",
    "d_v = 3 #ones per row\n",
    "d_c = 16\n",
    "snr = 100\n",
    "# First we create a small LDPC code i.e a pair of decoding and \n",
    "# coding matrices H and G. H is a regular parity-check matrix with d_v ones per row and d_c ones per column\n",
    "H, G = make_ldpc(n, d_v, d_c, systematic=True, sparse=True)\n",
    "k = G.shape[1] # message length\n",
    "print(k)"
   ]
  },
  {
   "cell_type": "code",
   "execution_count": 4,
   "metadata": {
    "scrolled": false
   },
   "outputs": [],
   "source": [
    "# v = np.random.randint(2, size=k)\n",
    "# print(v,'secret')\n",
    "# y = encode(G, v)# y is polr code\n",
    "# print('encode',len(y))\n",
    "# print('encode',y)\n",
    "# y = y+np.random.rand(n)# here add noise\n",
    "# # print('encode',y)\n",
    "# d = decode(H,y,snr)\n",
    "# # print(d)\n",
    "# x = get_message(G, d)\n",
    "# print(x)\n",
    "# assert abs(x - v).sum() == 0"
   ]
  },
  {
   "cell_type": "code",
   "execution_count": null,
   "metadata": {},
   "outputs": [],
   "source": []
  },
  {
   "cell_type": "code",
   "execution_count": 5,
   "metadata": {},
   "outputs": [],
   "source": [
    "# # paramters\n",
    "# # enroll\n",
    "# total_length = 16 # length of input of fuzzy extractor\n",
    "# #The number of bits that can be flipped in the source value and \n",
    "# # still produce the same key with probability (1 - rep_err).\n",
    "# error_precision = 8\n",
    "# top_score = 16# factor of 16\n",
    "# blocks = int(top_score / total_length)\n",
    "# using_max_entropy_or_random_perm = True\n",
    "# perm_feat = False# use perm for each user?"
   ]
  },
  {
   "cell_type": "code",
   "execution_count": 6,
   "metadata": {},
   "outputs": [],
   "source": [
    "# import sys\n",
    "# sys.path.append(\"../\")\n",
    "# from python_fuzzy_extractor.fuzzy_extractor import FuzzyExtractor\n",
    "\n",
    "# extractor = FuzzyExtractor(total_length, error_precision)"
   ]
  },
  {
   "cell_type": "code",
   "execution_count": 7,
   "metadata": {},
   "outputs": [],
   "source": [
    "# key, helper = extractor.generate(s)"
   ]
  },
  {
   "cell_type": "code",
   "execution_count": 8,
   "metadata": {},
   "outputs": [],
   "source": [
    "# from os import urandom\n",
    "# key = np.fromstring(urandom(16), dtype=np.uint8)\n",
    "# print(key)\n",
    "# y = encode(G, key)# y is polr code\n",
    "# print('encode',y)"
   ]
  },
  {
   "cell_type": "code",
   "execution_count": 9,
   "metadata": {},
   "outputs": [
    {
     "name": "stdout",
     "output_type": "stream",
     "text": [
      "0.3559951722117125\n",
      "0.0 mated\n",
      "[6 6 1 4 5 4 1 3 3 6 0 7 7 1 3 6 6 6 0 2 5 3 5 4 0 6 0 4 6 3 5 0 4 2 3 3 5\n",
      " 2 3 2 4 6 2 1 7 4 7 1 3 7 3 0 5 3 0 3 3 3 4 6 4 7 7 2]\n"
     ]
    }
   ],
   "source": [
    "def genW(n,q,m):# m, hashcode length, q sub-dimentsion n data dimension\n",
    "    return np.random.rand(m,n,q)\n",
    "\n",
    "def IoMhashing(x,ws):\n",
    "    para = np.shape(ws)\n",
    "    hashcode = np.zeros(para[0])\n",
    "    for i in range(para[0]):\n",
    "        hashcode[i] = np.argmax(np.matmul(x,ws[i]))\n",
    "    hashcode = hashcode.astype(int)\n",
    "    return hashcode\n",
    "\n",
    "def bin_array(num, m):\n",
    "    \"\"\"Convert a positive integer num into an m-bit bit vector\"\"\"\n",
    "    return np.array(list(np.binary_repr(num).zfill(m))).astype(np.int8)\n",
    "def binary_to_decimal(binary):\n",
    "    i,integer = 0,0\n",
    "    size = len(binary)\n",
    "    while i < len(binary):\n",
    "        integer += int(binary[size - 1 - i])*pow(2,i)\n",
    "        i+=1\n",
    "    return integer\n",
    "binary_to_decimal([0,1,0])\n",
    "\n",
    "\n",
    "n = 512\n",
    "biometric = np.random.rand(n)\n",
    "biometric2 = np.random.rand(n)\n",
    "biometric3 = biometric+np.random.rand(n)*0.01 # a mated sample\n",
    "\n",
    "W = genW(512,8,64)\n",
    "hashcode = IoMhashing(biometric,W)\n",
    "hashcode2 = IoMhashing(biometric2,W)\n",
    "hashcode3 = IoMhashing(biometric3,W)\n",
    "print(np.linalg.norm(hashcode - hashcode2, axis=-1)/(np.linalg.norm(hashcode)+np.linalg.norm(hashcode2)))\n",
    "print(np.linalg.norm(hashcode - hashcode3, axis=-1)/(np.linalg.norm(hashcode)+np.linalg.norm(hashcode3)),'mated')\n",
    "print(hashcode)"
   ]
  },
  {
   "cell_type": "code",
   "execution_count": 10,
   "metadata": {},
   "outputs": [
    {
     "ename": "TypeError",
     "evalue": "bin_array() missing 1 required positional argument: 'm'",
     "output_type": "error",
     "traceback": [
      "\u001b[0;31m---------------------------------------------------------------------------\u001b[0m",
      "\u001b[0;31mTypeError\u001b[0m                                 Traceback (most recent call last)",
      "\u001b[0;32m<ipython-input-10-e8e99fb6616b>\u001b[0m in \u001b[0;36m<module>\u001b[0;34m\u001b[0m\n\u001b[0;32m----> 1\u001b[0;31m \u001b[0mhashcode\u001b[0m \u001b[0;34m=\u001b[0m \u001b[0mnp\u001b[0m\u001b[0;34m.\u001b[0m\u001b[0marray\u001b[0m\u001b[0;34m(\u001b[0m\u001b[0;34m[\u001b[0m\u001b[0mLDPC_FE_Util\u001b[0m\u001b[0;34m.\u001b[0m\u001b[0mbin_array\u001b[0m\u001b[0;34m(\u001b[0m\u001b[0mk\u001b[0m\u001b[0;34m,\u001b[0m\u001b[0;36m8\u001b[0m\u001b[0;34m)\u001b[0m \u001b[0;32mfor\u001b[0m \u001b[0mk\u001b[0m \u001b[0;32min\u001b[0m \u001b[0mhashcode\u001b[0m\u001b[0;34m]\u001b[0m\u001b[0;34m)\u001b[0m\u001b[0;34m.\u001b[0m\u001b[0mreshape\u001b[0m\u001b[0;34m(\u001b[0m\u001b[0;34m-\u001b[0m\u001b[0;36m1\u001b[0m\u001b[0;34m)\u001b[0m\u001b[0;34m\u001b[0m\u001b[0;34m\u001b[0m\u001b[0m\n\u001b[0m\u001b[1;32m      2\u001b[0m \u001b[0mhashcode2\u001b[0m \u001b[0;34m=\u001b[0m \u001b[0mnp\u001b[0m\u001b[0;34m.\u001b[0m\u001b[0marray\u001b[0m\u001b[0;34m(\u001b[0m\u001b[0;34m[\u001b[0m\u001b[0mbin_array\u001b[0m\u001b[0;34m(\u001b[0m\u001b[0mk\u001b[0m\u001b[0;34m,\u001b[0m\u001b[0;36m8\u001b[0m\u001b[0;34m)\u001b[0m \u001b[0;32mfor\u001b[0m \u001b[0mk\u001b[0m \u001b[0;32min\u001b[0m \u001b[0mhashcode2\u001b[0m\u001b[0;34m]\u001b[0m\u001b[0;34m)\u001b[0m\u001b[0;34m.\u001b[0m\u001b[0mreshape\u001b[0m\u001b[0;34m(\u001b[0m\u001b[0;34m-\u001b[0m\u001b[0;36m1\u001b[0m\u001b[0;34m)\u001b[0m\u001b[0;34m\u001b[0m\u001b[0;34m\u001b[0m\u001b[0m\n\u001b[1;32m      3\u001b[0m \u001b[0mhashcode3\u001b[0m \u001b[0;34m=\u001b[0m \u001b[0mnp\u001b[0m\u001b[0;34m.\u001b[0m\u001b[0marray\u001b[0m\u001b[0;34m(\u001b[0m\u001b[0;34m[\u001b[0m\u001b[0mbin_array\u001b[0m\u001b[0;34m(\u001b[0m\u001b[0mk\u001b[0m\u001b[0;34m,\u001b[0m\u001b[0;36m8\u001b[0m\u001b[0;34m)\u001b[0m \u001b[0;32mfor\u001b[0m \u001b[0mk\u001b[0m \u001b[0;32min\u001b[0m \u001b[0mhashcode3\u001b[0m\u001b[0;34m]\u001b[0m\u001b[0;34m)\u001b[0m\u001b[0;34m.\u001b[0m\u001b[0mreshape\u001b[0m\u001b[0;34m(\u001b[0m\u001b[0;34m-\u001b[0m\u001b[0;36m1\u001b[0m\u001b[0;34m)\u001b[0m\u001b[0;34m\u001b[0m\u001b[0;34m\u001b[0m\u001b[0m\n\u001b[1;32m      4\u001b[0m \u001b[0;31m# hashcode[hashcode==0] = -1\u001b[0m\u001b[0;34m\u001b[0m\u001b[0;34m\u001b[0m\u001b[0;34m\u001b[0m\u001b[0m\n\u001b[1;32m      5\u001b[0m \u001b[0;31m# hashcode2[hashcode2==0] = -1\u001b[0m\u001b[0;34m\u001b[0m\u001b[0;34m\u001b[0m\u001b[0;34m\u001b[0m\u001b[0m\n",
      "\u001b[0;32m<ipython-input-10-e8e99fb6616b>\u001b[0m in \u001b[0;36m<listcomp>\u001b[0;34m(.0)\u001b[0m\n\u001b[0;32m----> 1\u001b[0;31m \u001b[0mhashcode\u001b[0m \u001b[0;34m=\u001b[0m \u001b[0mnp\u001b[0m\u001b[0;34m.\u001b[0m\u001b[0marray\u001b[0m\u001b[0;34m(\u001b[0m\u001b[0;34m[\u001b[0m\u001b[0mLDPC_FE_Util\u001b[0m\u001b[0;34m.\u001b[0m\u001b[0mbin_array\u001b[0m\u001b[0;34m(\u001b[0m\u001b[0mk\u001b[0m\u001b[0;34m,\u001b[0m\u001b[0;36m8\u001b[0m\u001b[0;34m)\u001b[0m \u001b[0;32mfor\u001b[0m \u001b[0mk\u001b[0m \u001b[0;32min\u001b[0m \u001b[0mhashcode\u001b[0m\u001b[0;34m]\u001b[0m\u001b[0;34m)\u001b[0m\u001b[0;34m.\u001b[0m\u001b[0mreshape\u001b[0m\u001b[0;34m(\u001b[0m\u001b[0;34m-\u001b[0m\u001b[0;36m1\u001b[0m\u001b[0;34m)\u001b[0m\u001b[0;34m\u001b[0m\u001b[0;34m\u001b[0m\u001b[0m\n\u001b[0m\u001b[1;32m      2\u001b[0m \u001b[0mhashcode2\u001b[0m \u001b[0;34m=\u001b[0m \u001b[0mnp\u001b[0m\u001b[0;34m.\u001b[0m\u001b[0marray\u001b[0m\u001b[0;34m(\u001b[0m\u001b[0;34m[\u001b[0m\u001b[0mbin_array\u001b[0m\u001b[0;34m(\u001b[0m\u001b[0mk\u001b[0m\u001b[0;34m,\u001b[0m\u001b[0;36m8\u001b[0m\u001b[0;34m)\u001b[0m \u001b[0;32mfor\u001b[0m \u001b[0mk\u001b[0m \u001b[0;32min\u001b[0m \u001b[0mhashcode2\u001b[0m\u001b[0;34m]\u001b[0m\u001b[0;34m)\u001b[0m\u001b[0;34m.\u001b[0m\u001b[0mreshape\u001b[0m\u001b[0;34m(\u001b[0m\u001b[0;34m-\u001b[0m\u001b[0;36m1\u001b[0m\u001b[0;34m)\u001b[0m\u001b[0;34m\u001b[0m\u001b[0;34m\u001b[0m\u001b[0m\n\u001b[1;32m      3\u001b[0m \u001b[0mhashcode3\u001b[0m \u001b[0;34m=\u001b[0m \u001b[0mnp\u001b[0m\u001b[0;34m.\u001b[0m\u001b[0marray\u001b[0m\u001b[0;34m(\u001b[0m\u001b[0;34m[\u001b[0m\u001b[0mbin_array\u001b[0m\u001b[0;34m(\u001b[0m\u001b[0mk\u001b[0m\u001b[0;34m,\u001b[0m\u001b[0;36m8\u001b[0m\u001b[0;34m)\u001b[0m \u001b[0;32mfor\u001b[0m \u001b[0mk\u001b[0m \u001b[0;32min\u001b[0m \u001b[0mhashcode3\u001b[0m\u001b[0;34m]\u001b[0m\u001b[0;34m)\u001b[0m\u001b[0;34m.\u001b[0m\u001b[0mreshape\u001b[0m\u001b[0;34m(\u001b[0m\u001b[0;34m-\u001b[0m\u001b[0;36m1\u001b[0m\u001b[0;34m)\u001b[0m\u001b[0;34m\u001b[0m\u001b[0;34m\u001b[0m\u001b[0m\n\u001b[1;32m      4\u001b[0m \u001b[0;31m# hashcode[hashcode==0] = -1\u001b[0m\u001b[0;34m\u001b[0m\u001b[0;34m\u001b[0m\u001b[0;34m\u001b[0m\u001b[0m\n\u001b[1;32m      5\u001b[0m \u001b[0;31m# hashcode2[hashcode2==0] = -1\u001b[0m\u001b[0;34m\u001b[0m\u001b[0;34m\u001b[0m\u001b[0;34m\u001b[0m\u001b[0m\n",
      "\u001b[0;31mTypeError\u001b[0m: bin_array() missing 1 required positional argument: 'm'"
     ]
    }
   ],
   "source": [
    "hashcode = np.array([LDPC_FE_Util.bin_array(k,8) for k in hashcode]).reshape(-1)\n",
    "hashcode2 = np.array([bin_array(k,8) for k in hashcode2]).reshape(-1)\n",
    "hashcode3 = np.array([bin_array(k,8) for k in hashcode3]).reshape(-1)\n",
    "# hashcode[hashcode==0] = -1\n",
    "# hashcode2[hashcode2==0] = -1\n",
    "# hashcode3[hashcode3==0] = -1\n"
   ]
  },
  {
   "cell_type": "code",
   "execution_count": null,
   "metadata": {},
   "outputs": [],
   "source": [
    "lDPC_FE_Util = LDPC_FE_Util(512,3,4)# message 418 bits, encode into 512 bits\n",
    "# d_c must divide n for a regular LDPC matrix H\n",
    "# fuzzy vault 18 ints as key, 16bit + 2 bit error\n",
    "# 18*8=144 bits key length LDPC_FE_Util(119,3,16)\n",
    "keys,keys_int = lDPC_FE_Util.genKey()\n",
    "# print(np.shape(keys))\n",
    "# print(np.shape(keys_int))\n",
    "ec,ec_int = lDPC_FE_Util.encode(keys)\n",
    "# print(len(ec))\n",
    "# print(len(ec_int))\n",
    "# print(ec_int)\n",
    "decode_key, de_key_int = lDPC_FE_Util.decode(ec)\n",
    "# print(decode_key)\n",
    "assert abs(keys - decode_key).sum() == 0"
   ]
  },
  {
   "cell_type": "code",
   "execution_count": null,
   "metadata": {},
   "outputs": [],
   "source": [
    "ciphers1 = np.bitwise_xor(hashcode, ec)\n",
    "ciphers1"
   ]
  },
  {
   "cell_type": "code",
   "execution_count": null,
   "metadata": {},
   "outputs": [],
   "source": [
    "ciphers2 = np.bitwise_xor(hashcode2, ec_int)\n",
    "print(ciphers2)\n",
    "decode_key, de_key_int = lDPC_FE_Util.decode(ciphers2)\n",
    "assert abs(keys - decode_key).sum() == 0"
   ]
  },
  {
   "cell_type": "code",
   "execution_count": null,
   "metadata": {},
   "outputs": [],
   "source": [
    "ciphers3 = np.bitwise_xor(hashcode3, ec_int)\n",
    "decode_key, de_key_int = lDPC_FE_Util.decode(ciphers3)\n",
    "assert abs(keys - decode_key).sum() == 0"
   ]
  },
  {
   "cell_type": "code",
   "execution_count": null,
   "metadata": {},
   "outputs": [],
   "source": [
    "# key = np.fromstring(urandom(16), dtype=np.uint8)\n",
    "# key_arr = np.array([bin_array(k,8) for k in key])\n",
    "# # print(key_arr)\n",
    "# # print(key_arr.reshape(-1))\n",
    "# bin_key = key_arr.reshape(-1)\n",
    "# key_pad = np.concatenate((bin_key, np.zeros(2, dtype=np.uint8)))\n",
    "# y = encode(G, key_pad)# y is polr code\n",
    "# # print('encode',y)# encode into 512 bits\n",
    "# y[y==-1] =0\n",
    "# ciphers = np.bitwise_xor(hashcode, y)\n",
    "# print(ciphers)"
   ]
  },
  {
   "cell_type": "code",
   "execution_count": null,
   "metadata": {},
   "outputs": [],
   "source": [
    "plains = np.bitwise_xor(hashcode2, ciphers)\n",
    "# print(plains)\n",
    "# y = y+np.random.rand(n)# here add noise\n",
    "# print('encode',y)\n",
    "snr=100\n",
    "d = decode(H,plains,snr)\n",
    "# print(d)\n",
    "x = get_message(G, d)\n",
    "# print(x)\n",
    "assert abs(x - key_pad).sum() == 0"
   ]
  },
  {
   "cell_type": "code",
   "execution_count": null,
   "metadata": {},
   "outputs": [],
   "source": [
    "plains = np.bitwise_xor(hashcode3, ciphers)\n",
    "# print(plains)\n",
    "# y = y+np.random.rand(n)# here add noise\n",
    "# print('encode',y)\n",
    "snr=100\n",
    "d = decode(H,plains,snr)\n",
    "# print(d)\n",
    "x = get_message(G, d)\n",
    "# print(x)\n",
    "assert abs(x - key_pad).sum() == 0"
   ]
  },
  {
   "cell_type": "code",
   "execution_count": 37,
   "metadata": {},
   "outputs": [
    {
     "name": "stdout",
     "output_type": "stream",
     "text": [
      "[135  92  22 198 101  60 101  83 228 115  34  84  20 240 153 101 161 122]\n"
     ]
    },
    {
     "name": "stderr",
     "output_type": "stream",
     "text": [
      "<ipython-input-37-9fecab460687>:2: DeprecationWarning: The binary mode of fromstring is deprecated, as it behaves surprisingly on unicode inputs. Use frombuffer instead\n",
      "  key = np.fromstring(urandom(18), dtype=np.uint8)\n"
     ]
    }
   ],
   "source": [
    "from os import urandom\n",
    "key = np.fromstring(urandom(18), dtype=np.uint8)\n",
    "print(key)"
   ]
  },
  {
   "cell_type": "code",
   "execution_count": null,
   "metadata": {},
   "outputs": [],
   "source": [
    "from fastpbkdf2 import pbkdf2_hmac\n",
    "np.fromstring(pbkdf2_hmac('sha256', [1,2,3], [1,2,3], 1, 2), dtype=np.uint8)"
   ]
  },
  {
   "cell_type": "code",
   "execution_count": null,
   "metadata": {},
   "outputs": [],
   "source": [
    "# print(len(ciphers)/8)\n",
    "int_arr = [binary_to_decimal(ciphers[i*8:(i+1)*8]) for i in range(int(len(ciphers)/8))]\n",
    "print(len(int_arr))"
   ]
  }
 ],
 "metadata": {
  "kernelspec": {
   "display_name": "Python 3",
   "language": "python",
   "name": "python3"
  },
  "language_info": {
   "codemirror_mode": {
    "name": "ipython",
    "version": 3
   },
   "file_extension": ".py",
   "mimetype": "text/x-python",
   "name": "python",
   "nbconvert_exporter": "python",
   "pygments_lexer": "ipython3",
   "version": "3.8.3"
  }
 },
 "nbformat": 4,
 "nbformat_minor": 4
}
