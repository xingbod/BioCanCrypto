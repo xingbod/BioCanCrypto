{
 "cells": [
  {
   "cell_type": "code",
   "execution_count": 1,
   "metadata": {},
   "outputs": [],
   "source": [
    "# !pip install ../pyldpc\n",
    "# !pip install pyeer"
   ]
  },
  {
   "cell_type": "code",
   "execution_count": 2,
   "metadata": {},
   "outputs": [],
   "source": [
    "import numpy as np\n",
    "import pandas as pd\n",
    "import hashlib\n",
    "import random\n",
    "import sys\n",
    "sys.path.append(\"../\")\n",
    "from python_fuzzy_extractor.fuzzy_extractor import FuzzyExtractor\n",
    "# from python_fuzzy_extractor.fuzzy_extractor_LDPC import FuzzyExtractorLDPC as FuzzyExtractor\n",
    "from entropy import Entropy\n",
    "import tqdm\n",
    "from joblib import Parallel, delayed\n",
    "import multiprocessing\n",
    "import pickle\n",
    "import itertools\n",
    "from verification import computeAccuracyROC\n",
    "from multiprocessing import Pool\n",
    "import time\n",
    "# from fuzzy_extractor import FuzzyExtractor\n",
    "\n",
    "from pyeer.eer_info import get_eer_stats\n",
    "from pyeer.report import generate_eer_report, export_error_rates\n",
    "from pyeer.plot import plot_eer_stats\n",
    "import matplotlib.pyplot as pyplot\n"
   ]
  },
  {
   "cell_type": "code",
   "execution_count": 3,
   "metadata": {},
   "outputs": [],
   "source": [
    "# paramters\n",
    "# enroll\n",
    "total_length = 16 # length of input of fuzzy extractor, bytes, or 8 bits\n",
    "#The number of bits that can be flipped in the source value and \n",
    "# still produce the same key with probability (1 - rep_err).\n",
    "error_precision = 8\n",
    "top_score = 64# factor of 16\n",
    "blocks = int(top_score / total_length)# divide into several blocks\n",
    "key_redundancy = 2 # at least 2, e.g., 2, means same key is bind to two blocks, hence increase redundancy\n",
    "key_number = int(blocks / key_redundancy) # ensure propoerly defined\n",
    "# key_segments is also realted to the key strength, or how many bits the key contains. \n",
    "using_max_entropy_or_random_perm = True\n",
    "perm_feat = False# use perm for each user?"
   ]
  },
  {
   "cell_type": "markdown",
   "metadata": {},
   "source": [
    "# Define IoM hashing"
   ]
  },
  {
   "cell_type": "code",
   "execution_count": 4,
   "metadata": {},
   "outputs": [],
   "source": [
    "def genW(n,q,m):# m, hashcode length, q sub-dimentsion n data dimension\n",
    "    return np.random.rand(m,n,q)\n",
    "\n",
    "def IoMhashing(x,ws):\n",
    "    para = np.shape(ws)\n",
    "    hashcode = np.zeros(para[0])\n",
    "    for i in range(para[0]):\n",
    "        hashcode[i] = np.argmax(np.matmul(x,ws[i]))\n",
    "    return hashcode\n",
    "def IoM(embeddings,ws):\n",
    "    emb_size = np.shape(embeddings)\n",
    "    hashcodes = np.zeros((emb_size[0],np.shape(ws)[0]))\n",
    "    for i in range(emb_size[0]):\n",
    "        hashcodes[i][:] = IoMhashing(embeddings[i],ws).astype(int)\n",
    "    return hashcodes.astype(int)\n",
    "def euclidean_distance(hashcode,hashcode2):\n",
    "    return np.linalg.norm(hashcode - hashcode2, axis=-1)/(np.linalg.norm(hashcode)+np.linalg.norm(hashcode2))\n",
    "#  n how many numbers to choose\n",
    "def nchoosek(startnum, endnum, step=1, n=1):\n",
    "    c = []\n",
    "    for i in itertools.combinations(range(startnum,endnum+1,step),n):\n",
    "        c.append(list(i))\n",
    "    return c\n",
    "\n"
   ]
  },
  {
   "cell_type": "code",
   "execution_count": 5,
   "metadata": {},
   "outputs": [],
   "source": [
    "# embeddings = np.loadtxt('integerhashingcodes_embeddings_FVC2002_DB1_A_8x512.csv', dtype='int', delimiter=',')#512, binary\n",
    "embeddings_kpca = np.loadtxt('data/kpca_embeddings_FVC2002_DB1.csv', dtype='float', delimiter=',')#512, binary"
   ]
  },
  {
   "cell_type": "code",
   "execution_count": 6,
   "metadata": {},
   "outputs": [],
   "source": [
    "# test EER\n",
    "def generateMatchingScores(embeddings):\n",
    "    gen = [];\n",
    "    combination = nchoosek(0,4, n=2)\n",
    "    for i in range(100):\n",
    "        for j in range(len(combination)):\n",
    "            template1 = embeddings[(5*(i-1)+combination[j][0]),:]\n",
    "            template2 = embeddings[(5*(i-1)+combination[j][1]),:]\n",
    "            D=1- euclidean_distance(template1,template2)\n",
    "            gen.append(D)\n",
    "    imp = [];\n",
    "    combination = nchoosek(0,99, n=2)\n",
    "    for i in range(len(combination)):\n",
    "        template1 = embeddings[(5*(combination[i][0]-1)+1),:]\n",
    "        template2 = embeddings[(5*(combination[i][1]-1)+1),:]\n",
    "        D=1 - euclidean_distance(template1,template2)\n",
    "        imp.append(D)\n",
    "    return (gen,imp)"
   ]
  },
  {
   "cell_type": "markdown",
   "metadata": {},
   "source": [
    "# Perforamnce of KPCA"
   ]
  },
  {
   "cell_type": "code",
   "execution_count": 7,
   "metadata": {},
   "outputs": [
    {
     "name": "stdout",
     "output_type": "stream",
     "text": [
      "0.13080808080808082 %\n"
     ]
    },
    {
     "data": {
      "text/plain": [
       "<matplotlib.legend.Legend at 0x7fb8ff8b99a0>"
      ]
     },
     "execution_count": 7,
     "metadata": {},
     "output_type": "execute_result"
    },
    {
     "data": {
      "image/png": "[encoded data removed]",
      "text/plain": [
       "<Figure size 432x288 with 1 Axes>"
      ]
     },
     "metadata": {
      "needs_background": "light"
     },
     "output_type": "display_data"
    }
   ],
   "source": [
    "gen,imp = generateMatchingScores(embeddings_kpca)\n",
    "stats_a = get_eer_stats(gen,imp)\n",
    "print(stats_a.eer*100,'%')\n",
    "# generate_eer_report([stats_a], ['A'], 'pyeer_report.csv')\n",
    "plot_eer_stats([stats_a], ['A'])\n",
    "\n",
    "bins = np.linspace(0, 1, 100)\n",
    "pyplot.hist(gen, bins, alpha=0.5, label='gen')\n",
    "pyplot.hist(imp, bins, alpha=0.5, label='imp')\n",
    "pyplot.legend(loc='upper right')\n"
   ]
  },
  {
   "cell_type": "markdown",
   "metadata": {},
   "source": [
    "# Performance of IoM"
   ]
  },
  {
   "cell_type": "code",
   "execution_count": 8,
   "metadata": {},
   "outputs": [
    {
     "name": "stdout",
     "output_type": "stream",
     "text": [
      "0.7939393939393941 %\n"
     ]
    },
    {
     "data": {
      "text/plain": [
       "<matplotlib.legend.Legend at 0x7fb8ffc79b80>"
      ]
     },
     "execution_count": 8,
     "metadata": {},
     "output_type": "execute_result"
    },
    {
     "data": {
      "image/png": "[encoded data removed]",
      "text/plain": [
       "<Figure size 432x288 with 1 Axes>"
      ]
     },
     "metadata": {
      "needs_background": "light"
     },
     "output_type": "display_data"
    }
   ],
   "source": [
    "num_user, dx = np.shape(embeddings_kpca)\n",
    "W = genW(dx,8,512)\n",
    "embeddings_iom = IoM(embeddings_kpca,W)\n",
    "\n",
    "gen,imp = generateMatchingScores(embeddings_iom)\n",
    "stats_a = get_eer_stats(gen,imp)\n",
    "print(stats_a.eer*100,'%')\n",
    "# generate_eer_report([stats_a], ['A'], 'pyeer_report.csv')\n",
    "plot_eer_stats([stats_a], ['A'])\n",
    "\n",
    "bins = np.linspace(0, 1, 100)\n",
    "pyplot.hist(gen, bins, alpha=0.5, label='gen')\n",
    "pyplot.hist(imp, bins, alpha=0.5, label='imp')\n",
    "pyplot.legend(loc='upper right')\n"
   ]
  },
  {
   "cell_type": "code",
   "execution_count": 9,
   "metadata": {},
   "outputs": [],
   "source": [
    "extractor = FuzzyExtractor(total_length, error_precision)"
   ]
  },
  {
   "cell_type": "markdown",
   "metadata": {},
   "source": [
    "# For each user, generate mask from first 3 samples"
   ]
  },
  {
   "cell_type": "code",
   "execution_count": 10,
   "metadata": {},
   "outputs": [
    {
     "name": "stderr",
     "output_type": "stream",
     "text": [
      "100%|██████████| 100/100 [00:21<00:00,  4.59it/s]\n"
     ]
    }
   ],
   "source": [
    "mess_len = embeddings_iom.shape[1]\n",
    "masks=[]\n",
    "for i in tqdm.tqdm(range(100)):\n",
    "    samples = embeddings_iom[i*5:i*5+3,:]\n",
    "    entropy_scores = []\n",
    "    for i in range(mess_len):\n",
    "        entropy_scores.append(Entropy(samples[:,i]))\n",
    "    entropy_scores_sort_idx = np.argsort(entropy_scores)\n",
    "    if using_max_entropy_or_random_perm:\n",
    "        remain_idx =np.array(entropy_scores_sort_idx, dtype=np.uint8)\n",
    "    else:\n",
    "        remain_idx =np.random.permutation(range(512))# if randomly generate index?\n",
    "    masks.append(remain_idx)"
   ]
  },
  {
   "cell_type": "markdown",
   "metadata": {},
   "source": [
    "# what if we add some permutation? User-specific?"
   ]
  },
  {
   "cell_type": "code",
   "execution_count": 11,
   "metadata": {},
   "outputs": [
    {
     "name": "stderr",
     "output_type": "stream",
     "text": [
      "100%|██████████| 100/100 [00:00<00:00, 37435.77it/s]\n"
     ]
    }
   ],
   "source": [
    "perms=[]\n",
    "for i in tqdm.tqdm(range(100)):\n",
    "    perms.append(np.random.permutation(range(top_score)))\n"
   ]
  },
  {
   "cell_type": "markdown",
   "metadata": {},
   "source": [
    "# 4th samples as enrollment template, 5 as testing"
   ]
  },
  {
   "cell_type": "code",
   "execution_count": 12,
   "metadata": {},
   "outputs": [],
   "source": [
    "def randomExclude(n):\n",
    "    while True:\n",
    "        tmp = np.random.randint(0, 100, size=1)[0]\n",
    "        if tmp!=n:\n",
    "            break\n",
    "    return tmp\n",
    "\n",
    "flg=1# debug,one element \n",
    "\n",
    "\n",
    "def sub_enroll(i):\n",
    "    keys= []\n",
    "    helpers = []\n",
    "    samples = embeddings_iom[i*5+3,:]\n",
    "    mask = masks[i][:top_score]\n",
    "    samples_masked = samples[mask]\n",
    "    \n",
    "    keys4user = []\n",
    "    for ki in range(key_number):\n",
    "        keys4user.append(extractor.generateKey())\n",
    "    # perm the hash codes\n",
    "    if perm_feat:\n",
    "        samples_masked = samples_masked[perms[i]]\n",
    "#     print(\"processing \",i)\n",
    "    for starti in range(blocks):\n",
    "        s = samples_masked[starti*total_length:(starti+1)*total_length]\n",
    "        # fuzzy extractor\n",
    "#         key, helper = extractor.generate(s)\n",
    "        key, helper = extractor.generateWithPreGeneratedkey(s,keys4user[int(starti/key_number)])# be careful\n",
    "        keys.append(key)\n",
    "        helpers.append(helper)\n",
    "    print(\"processing over \",i)\n",
    "    return keys,helpers\n",
    "\n"
   ]
  },
  {
   "cell_type": "code",
   "execution_count": 13,
   "metadata": {},
   "outputs": [
    {
     "name": "stdout",
     "output_type": "stream",
     "text": [
      "======  apply_async  ======\n",
      "processing over  7\n",
      "processing over processing over   9processing over 5 11\n",
      "\n",
      "processing over processing over processing over \n",
      "  410processing over  0\n",
      " \n",
      "processing over 6\n",
      "\n",
      " 1\n",
      "processing over \n",
      " 3processing over  8\n",
      "processing over  2\n",
      "processing over  12\n",
      "processing over  13processing over  \n",
      "14\n",
      "processing over processing over processing over processing over processing over     1520processing over  19 \n",
      "1816\n",
      "\n",
      "17\n",
      "\n",
      "processing over \n",
      "21 processing over \n",
      " 23\n",
      "processing over  22\n",
      "processing over  24\n",
      "processing over  25\n",
      "processing over  processing over  2629processing over \n",
      "\n",
      " 27processing over processing over \n",
      "  33\n",
      "28\n",
      "processing over  31\n",
      "processing over processing over  34\n",
      " 30processing over processing over \n",
      " 32 \n",
      "35\n",
      "processing over  36\n",
      "processing over  37\n",
      "processing over processing over  39 \n",
      "40\n",
      "processing over  38\n",
      "processing over  42processing over \n",
      " 41\n",
      "processing over processing over  processing over  47processing over   4443\n",
      "\n",
      "\n",
      "46\n",
      "processing over  45\n",
      "processing over  48\n",
      "processing over  49\n",
      "processing over  51\n",
      "processing over  52\n",
      "processing over  50\n",
      "processing over  53\n",
      "processing over  processing over  processing over 57 \n",
      "55\n",
      "54\n",
      "processing over processing over  58\n",
      " 56\n",
      "processing over  59\n",
      "processing over  60\n",
      "processing over  61\n",
      "processing over  62\n",
      "processing over  63processing over  \n",
      "64\n",
      "processing over  69processing over \n",
      " 65\n",
      "processing over  processing over 66\n",
      "processing over  68\n",
      " 67processing over \n",
      " processing over 70\n",
      " 71\n",
      "processing over  72\n",
      "processing over  73\n",
      "processing over  74\n",
      "processing over  processing over  75\n",
      "76\n",
      "processing over  78\n",
      "processing over processing over   7780\n",
      "\n",
      "processing over  79\n",
      "processing over  83processing over \n",
      " 82\n",
      "processing over  81\n",
      "processing over  84\n",
      "processing over  85\n",
      "processing over  86\n",
      "processing over  87\n",
      "processing over  88\n",
      "processing over  90\n",
      "processing over  89\n",
      "processing over  94\n",
      "processing over  91\n",
      "processing over  92\n",
      "processing over  93\n",
      "processing over  95\n",
      "processing over  97\n",
      "processing over  96\n",
      "processing over  98\n",
      "processing over  99\n",
      "Total time of Thread execution 41.0019 for the function \n"
     ]
    }
   ],
   "source": [
    "# enroll\n",
    "pool = Pool(processes = 12)\n",
    "start_time=time.perf_counter()\n",
    "results = []\n",
    "for i in range(100):\n",
    "    # 维持执行的进程总数为processes，当一个进程执行完毕后会添加新的进程进去\n",
    "    r1 = pool.apply_async(sub_enroll, args=(i, ))    \n",
    "    results.append(r1)\n",
    "print('======  apply_async  ======')\n",
    "pool.close()\n",
    "#调用join之前，先调用close函数，否则会出错。执行完close后不会有新的进程加入到pool,join函数等待所有子进程结束\n",
    "pool.join()\n",
    "\n",
    "\n",
    "keys= []\n",
    "helpers = []\n",
    "    \n",
    "for i in range(100):\n",
    "    ikeys,ihelpers = results[i].get(timeout=5000)\n",
    "    keys.append(ikeys)\n",
    "    helpers.append(ihelpers)\n",
    "\n",
    "end_time=time.perf_counter()\n",
    "    \n",
    "print(f\"Total time of Thread execution {round(end_time- start_time,4)} for the function \")\n"
   ]
  },
  {
   "cell_type": "markdown",
   "metadata": {},
   "source": [
    "# Query and test"
   ]
  },
  {
   "cell_type": "code",
   "execution_count": 14,
   "metadata": {},
   "outputs": [],
   "source": [
    "# np.savez('masks.npy',masks)\n",
    "# np.savez('keys.npy',keys)\n",
    "# np.savez('embeddings.npy',embeddings)\n"
   ]
  },
  {
   "cell_type": "markdown",
   "metadata": {},
   "source": [
    "# Check the key length\n"
   ]
  },
  {
   "cell_type": "code",
   "execution_count": 15,
   "metadata": {},
   "outputs": [
    {
     "name": "stdout",
     "output_type": "stream",
     "text": [
      "(100, 4)\n",
      "16 bits per key\n",
      "(100, 4)\n",
      "128 bits per key\n"
     ]
    }
   ],
   "source": [
    "# for LDPC\n",
    "print(np.shape(keys))\n",
    "print(len(keys[0][0]),'bits per key')\n",
    "\n",
    "# for w/o LDPC\n",
    "print(np.shape(keys))\n",
    "print(len(keys[0][0]*8),'bits per key')"
   ]
  },
  {
   "cell_type": "code",
   "execution_count": 16,
   "metadata": {},
   "outputs": [],
   "source": [
    "def save_variable(v,filename):\n",
    "    f=open(filename,'wb')\n",
    "    pickle.dump(v,f)\n",
    "    f.close()\n",
    "    return filename\n",
    "\n",
    "def load_variavle(filename):\n",
    "   f=open(filename,'rb')\n",
    "   r=pickle.load(f)\n",
    "   f.close()\n",
    "   return r\n",
    "\n",
    "# filename = save_variable(helpers,'helpers.txt')\n",
    "# results = load_variavle('helpers.txt')\n",
    "#################################\n",
    "def sub_repro_imposter(i):\n",
    "    j = randomExclude(i)# imposter, random one\n",
    "    samples = embeddings_iom[j*5+4,:]## using imposter biometric data\n",
    "    mask = masks[j][:top_score]\n",
    "    samples_masked = samples[mask]\n",
    "#     samples_masked = np.array([binary_to_decimal(samples_masked[idx*8:(idx+1)*8]) for idx in range(16)])\n",
    "    key = keys[i]\n",
    "    helper = helpers[i]\n",
    "    keys4usermatched = np.zeros(key_number)# indicator of key matching\n",
    "    # perm the hash codes\n",
    "    if perm_feat:\n",
    "        samples_masked = samples_masked[perms[i]]\n",
    "    positive_num=0\n",
    "    for starti in range(blocks):\n",
    "        p = samples_masked[starti*total_length:(starti+1)*total_length]\n",
    "        # fuzzy extractor reproduce\n",
    "        r_key = extractor.reproduce(p, helper[starti])  # r_key will probably still equal key!\n",
    "        if r_key and r_key==key[starti]:\n",
    "            keys4usermatched[int(starti/key_number)] = 1\n",
    "    return positive_num\n",
    "\n",
    "def sub_repro_imposter_disclosure_mask(i):\n",
    "    j = randomExclude(i)# imposter, random one\n",
    "    samples = embeddings_iom[j*5+4,:]## using imposter biometric data\n",
    "    mask = masks[i][:top_score]\n",
    "    samples_masked = samples[mask]\n",
    "    key = keys[i]\n",
    "    helper = helpers[i]\n",
    "    keys4usermatched = np.zeros(key_number)# indicator of key matching\n",
    "    # perm the hash codes\n",
    "    if perm_feat:\n",
    "        samples_masked = samples_masked[perms[j]]\n",
    "    positive_num=0\n",
    "    for starti in range(blocks):\n",
    "        p = samples_masked[starti*total_length:(starti+1)*total_length]\n",
    "        # fuzzy extractor reproduce\n",
    "        r_key = extractor.reproduce(p, helper[starti])  # r_key will probably still equal key!\n",
    "        if r_key and r_key==key[starti]:\n",
    "            keys4usermatched[int(starti/key_number)] = 1\n",
    "    return positive_num\n",
    "\n",
    "\n",
    "def sub_repro_genuine(i):\n",
    "    samples = embeddings_iom[i*5+4,:]\n",
    "    mask = masks[i][:top_score]\n",
    "    samples_masked = samples[mask]\n",
    "\n",
    "    key = keys[i]\n",
    "    helper = helpers[i]\n",
    "    keys4usermatched = np.zeros(key_number)# indicator of key matching\n",
    "    \n",
    "    if perm_feat:\n",
    "        samples_masked = samples_masked[perms[i]]\n",
    "    positive_num=0\n",
    "    for starti in range(blocks):        \n",
    "        p = samples_masked[starti*total_length:(starti+1)*total_length]\n",
    "        # fuzzy extractor reproduce\n",
    "        r_key = extractor.reproduce(p, helper[starti])  # r_key will probably still equal key!\n",
    "#         print('***********************************************')\n",
    "#         print('++++',r_key,key[starti],'******',starti)\n",
    "        if r_key and r_key==key[starti]:\n",
    "            keys4usermatched[int(starti/key_number)] = 1\n",
    "#             positive_num = positive_num+1\n",
    "#         if r_key == None:\n",
    "#             continue\n",
    "#         elif abs(np.subtract(r_key, key[starti])).sum() == 0:#r_key==key[starti]\n",
    "#             positive_num = positive_num+1\n",
    "# #     print('process',i,positive_num)\n",
    "    if np.sum(keys4usermatched) == key_number:\n",
    "        positive_num = 1\n",
    "    return positive_num"
   ]
  },
  {
   "cell_type": "code",
   "execution_count": 17,
   "metadata": {},
   "outputs": [
    {
     "name": "stdout",
     "output_type": "stream",
     "text": [
      "======  apply_async  ======\n",
      "Total time of Thread execution 18.8743 for the function \n"
     ]
    }
   ],
   "source": [
    "# query\n",
    "#lets try 7th with mated\n",
    "positive_nums=[]\n",
    "\n",
    "pool = Pool(processes = 12)\n",
    "start_time=time.perf_counter()\n",
    "results = []\n",
    "for i in range(100):\n",
    "    # 维持执行的进程总数为processes，当一个进程执行完毕后会添加新的进程进去\n",
    "    r1 = pool.apply_async(sub_repro_genuine, args=(i, ))    \n",
    "    results.append(r1)\n",
    "print('======  apply_async  ======')\n",
    "pool.close()\n",
    "#调用join之前，先调用close函数，否则会出错。执行完close后不会有新的进程加入到pool,join函数等待所有子进程结束\n",
    "pool.join()\n",
    "\n",
    "\n",
    "for i in range(100):\n",
    "    positive_nums.append(results[i].get(timeout=100))\n",
    "\n",
    "end_time=time.perf_counter()\n",
    "    \n",
    "print(f\"Total time of Thread execution {round(end_time- start_time,4)} for the function \")\n",
    "# print(positive_nums)\n"
   ]
  },
  {
   "cell_type": "code",
   "execution_count": 18,
   "metadata": {},
   "outputs": [
    {
     "name": "stdout",
     "output_type": "stream",
     "text": [
      "0.93\n"
     ]
    }
   ],
   "source": [
    "print(sum(np.array(positive_nums)>0)/len(positive_nums))\n",
    "# positive_nums 93% w/o ldpc  94% wLDPC"
   ]
  },
  {
   "cell_type": "markdown",
   "metadata": {},
   "source": [
    "# imposter"
   ]
  },
  {
   "cell_type": "markdown",
   "metadata": {},
   "source": [
    "## imposter knows "
   ]
  },
  {
   "cell_type": "code",
   "execution_count": 19,
   "metadata": {},
   "outputs": [
    {
     "name": "stdout",
     "output_type": "stream",
     "text": [
      "======  apply_async  ======\n",
      "Total time of Thread execution 22.4374 for the function \n"
     ]
    }
   ],
   "source": [
    "false_positive_nums = []\n",
    "pool = Pool(processes = 10)\n",
    "start_time=time.perf_counter()\n",
    "results = []\n",
    "for i in range(100):\n",
    "    # 维持执行的进程总数为processes，当一个进程执行完毕后会添加新的进程进去\n",
    "    r1 = pool.apply_async(sub_repro_imposter, args=(i, ))    \n",
    "    results.append(r1)\n",
    "print('======  apply_async  ======')\n",
    "pool.close()\n",
    "#调用join之前，先调用close函数，否则会出错。执行完close后不会有新的进程加入到pool,join函数等待所有子进程结束\n",
    "pool.join()\n",
    "\n",
    "\n",
    "for i in range(100):\n",
    "    false_positive_nums.append(results[i].get(timeout=1000))\n",
    "\n",
    "end_time=time.perf_counter()\n",
    "    \n",
    "print(f\"Total time of Thread execution {round(end_time- start_time,4)} for the function \")\n"
   ]
  },
  {
   "cell_type": "code",
   "execution_count": 20,
   "metadata": {},
   "outputs": [
    {
     "name": "stdout",
     "output_type": "stream",
     "text": [
      "======  apply_async  ======\n",
      "Total time of Thread execution 22.5364 for the function \n"
     ]
    }
   ],
   "source": [
    "false_positive_nums_same_mask = []\n",
    "pool = Pool(processes = 12)\n",
    "start_time=time.perf_counter()\n",
    "results = []\n",
    "for i in range(100):\n",
    "    # 维持执行的进程总数为processes，当一个进程执行完毕后会添加新的进程进去\n",
    "    r1 = pool.apply_async(sub_repro_imposter_disclosure_mask, args=(i, ))    \n",
    "    results.append(r1)\n",
    "print('======  apply_async  ======')\n",
    "pool.close()\n",
    "#调用join之前，先调用close函数，否则会出错。执行完close后不会有新的进程加入到pool,join函数等待所有子进程结束\n",
    "pool.join()\n",
    "\n",
    "\n",
    "for i in range(100):\n",
    "    false_positive_nums_same_mask.append(results[i].get(timeout=1000))\n",
    "\n",
    "end_time=time.perf_counter()\n",
    "    \n",
    "print(f\"Total time of Thread execution {round(end_time- start_time,4)} for the function \")\n"
   ]
  },
  {
   "cell_type": "code",
   "execution_count": 21,
   "metadata": {
    "scrolled": true
   },
   "outputs": [
    {
     "name": "stdout",
     "output_type": "stream",
     "text": [
      "[1, 1, 1, 1, 1, 1, 1, 1, 1, 1, 1, 0, 1, 1, 1, 0, 1, 1, 1, 1, 0, 1, 1, 1, 1, 0, 1, 1, 1, 1, 1, 1, 1, 1, 1, 1, 1, 1, 1, 1, 1, 1, 1, 0, 1, 1, 1, 1, 1, 1, 1, 1, 1, 1, 1, 1, 1, 1, 1, 1, 1, 1, 1, 1, 1, 1, 1, 1, 1, 1, 1, 1, 1, 1, 1, 0, 1, 1, 1, 1, 1, 1, 1, 1, 1, 1, 1, 1, 1, 1, 1, 1, 1, 1, 1, 1, 1, 1, 1, 0]\n",
      "[0, 0, 0, 0, 0, 0, 0, 0, 0, 0, 0, 0, 0, 0, 0, 0, 0, 0, 0, 0, 0, 0, 0, 0, 0, 0, 0, 0, 0, 0, 0, 0, 0, 0, 0, 0, 0, 0, 0, 0, 0, 0, 0, 0, 0, 0, 0, 0, 0, 0, 0, 0, 0, 0, 0, 0, 0, 0, 0, 0, 0, 0, 0, 0, 0, 0, 0, 0, 0, 0, 0, 0, 0, 0, 0, 0, 0, 0, 0, 0, 0, 0, 0, 0, 0, 0, 0, 0, 0, 0, 0, 0, 0, 0, 0, 0, 0, 0, 0, 0]\n",
      "[0, 0, 0, 0, 0, 0, 0, 0, 0, 0, 0, 0, 0, 0, 0, 0, 0, 0, 0, 0, 0, 0, 0, 0, 0, 0, 0, 0, 0, 0, 0, 0, 0, 0, 0, 0, 0, 0, 0, 0, 0, 0, 0, 0, 0, 0, 0, 0, 0, 0, 0, 0, 0, 0, 0, 0, 0, 0, 0, 0, 0, 0, 0, 0, 0, 0, 0, 0, 0, 0, 0, 0, 0, 0, 0, 0, 0, 0, 0, 0, 0, 0, 0, 0, 0, 0, 0, 0, 0, 0, 0, 0, 0, 0, 0, 0, 0, 0, 0, 0]\n",
      "blocks 4\n",
      "threshold1: 1\n",
      "threshold2: 1\n",
      "tpr,fpr 0.93 0.0\n",
      "tpr,fpr_samemask 0.93 0.0\n"
     ]
    }
   ],
   "source": [
    "print(positive_nums)\n",
    "# print(false_positive_nums)\n",
    "print(false_positive_nums_same_mask)\n",
    "print(false_positive_nums)\n",
    "print('blocks',blocks)\n",
    "# print(false_positive_nums2)\n",
    "threshold1 = 1\n",
    "threshold2 = 1\n",
    "# threshold = 1\n",
    "print('threshold1:',threshold1)\n",
    "print('threshold2:',threshold2)\n",
    "positive_nums = np.array(positive_nums)\n",
    "# false_positive_nums = np.array(false_positive_nums)\n",
    "false_positive_nums = np.array(false_positive_nums)\n",
    "false_positive_nums_same_mask = np.array(false_positive_nums_same_mask)\n",
    "\n",
    "## \n",
    "tpr = sum(positive_nums>=threshold1)/len(positive_nums)\n",
    "fpr = sum(false_positive_nums>=threshold1)/len(false_positive_nums)\n",
    "\n",
    "print('tpr,fpr',tpr,fpr)\n",
    "\n",
    "## \n",
    "tpr = sum(positive_nums>=threshold2)/len(positive_nums)\n",
    "fpr_same_mask = sum(false_positive_nums_same_mask>=threshold2)/len(false_positive_nums_same_mask)\n",
    "\n",
    "print('tpr,fpr_samemask',tpr,fpr_same_mask)"
   ]
  },
  {
   "cell_type": "code",
   "execution_count": 22,
   "metadata": {},
   "outputs": [
    {
     "data": {
      "image/png": "[encoded data removed]",
      "text/plain": [
       "<Figure size 1152x432 with 1 Axes>"
      ]
     },
     "metadata": {
      "needs_background": "light"
     },
     "output_type": "display_data"
    }
   ],
   "source": [
    "import numpy as np\n",
    "import matplotlib.pyplot as plt\n",
    "fig = plt.figure(figsize=(16,6)) #创建幕布\n",
    "ax = fig.add_subplot(121) #截取幕布的一部分，121是简写，表示1行2列中的第1个图\n",
    "ns,edgeBin,patches = plt.hist(positive_nums,bins=30,rwidth=1)\n",
    "ns,edgeBin,patches = plt.hist(false_positive_nums,bins=30,rwidth=1)\n"
   ]
  },
  {
   "cell_type": "code",
   "execution_count": 23,
   "metadata": {},
   "outputs": [
    {
     "data": {
      "image/png": "[encoded data removed]",
      "text/plain": [
       "<Figure size 1152x432 with 1 Axes>"
      ]
     },
     "metadata": {
      "needs_background": "light"
     },
     "output_type": "display_data"
    }
   ],
   "source": [
    "fig = plt.figure(figsize=(16,6)) #创建幕布\n",
    "ax = fig.add_subplot(121) #截取幕布的一部分，121是简写，表示1行2列中的第1个图\n",
    "ns,edgeBin,patchesshape = plt.hist(positive_nums,bins=30,rwidth=1)\n",
    "ns,edgeBin,patches = plt.hist(false_positive_nums_same_mask,bins=30,rwidth=1)\n"
   ]
  },
  {
   "cell_type": "markdown",
   "metadata": {},
   "source": [
    "# result 0FAR\n"
   ]
  },
  {
   "cell_type": "code",
   "execution_count": null,
   "metadata": {},
   "outputs": [],
   "source": []
  }
 ],
 "metadata": {
  "kernelspec": {
   "display_name": "Python 3",
   "language": "python",
   "name": "python3"
  },
  "language_info": {
   "codemirror_mode": {
    "name": "ipython",
    "version": 3
   },
   "file_extension": ".py",
   "mimetype": "text/x-python",
   "name": "python",
   "nbconvert_exporter": "python",
   "pygments_lexer": "ipython3",
   "version": "3.8.3"
  }
 },
 "nbformat": 4,
 "nbformat_minor": 2
}
