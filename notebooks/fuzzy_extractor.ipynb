{
 "cells": [
  {
   "cell_type": "code",
   "execution_count": 1,
   "metadata": {},
   "outputs": [],
   "source": [
    "import numpy as np\n",
    "import pandas as pd\n",
    "import hashlib\n",
    "import random\n",
    "import sys\n",
    "sys.path.append(\"../\")\n",
    "from python_fuzzy_extractor.fuzzy_extractor import FuzzyExtractor\n",
    "import tqdm\n",
    "from joblib import Parallel, delayed\n",
    "import multiprocessing\n",
    "import pickle\n",
    "\n",
    "from multiprocessing import Pool\n",
    "import time\n",
    "from fuzzy_extractor import FuzzyExtractor\n"
   ]
  },
  {
   "cell_type": "code",
   "execution_count": 2,
   "metadata": {},
   "outputs": [],
   "source": [
    "# paramters\n",
    "# enroll\n",
    "total_length = 16 # length of input of fuzzy extractor\n",
    "#The number of bits that can be flipped in the source value and \n",
    "# still produce the same key with probability (1 - rep_err).\n",
    "error_precision = 8\n",
    "top_score = 512# factor of 16\n",
    "\n",
    "blocks = int(top_score / total_length)\n",
    "using_max_entropy_or_random_perm = False\n",
    "perm_feat = False# use perm for each user?"
   ]
  },
  {
   "cell_type": "markdown",
   "metadata": {},
   "source": [
    "# prepare dataset"
   ]
  },
  {
   "cell_type": "code",
   "execution_count": 3,
   "metadata": {},
   "outputs": [],
   "source": [
    "embeddings1 = np.loadtxt('integerhashingcodes_embeddings_FVC2002_DB1_A_8x512.csv', dtype='int', delimiter=',')#512, binary"
   ]
  },
  {
   "cell_type": "code",
   "execution_count": 4,
   "metadata": {},
   "outputs": [],
   "source": [
    "embeddings = embeddings1 - 1"
   ]
  },
  {
   "cell_type": "code",
   "execution_count": 5,
   "metadata": {},
   "outputs": [
    {
     "data": {
      "text/plain": [
       "array([[2, 6, 1, ..., 3, 3, 4],\n",
       "       [5, 6, 5, ..., 4, 0, 0],\n",
       "       [2, 6, 5, ..., 1, 3, 4],\n",
       "       ...,\n",
       "       [6, 5, 6, ..., 3, 4, 5],\n",
       "       [6, 6, 7, ..., 3, 5, 5],\n",
       "       [5, 5, 6, ..., 3, 4, 5]])"
      ]
     },
     "execution_count": 5,
     "metadata": {},
     "output_type": "execute_result"
    }
   ],
   "source": [
    "embeddings"
   ]
  },
  {
   "cell_type": "code",
   "execution_count": 6,
   "metadata": {},
   "outputs": [],
   "source": [
    "extractor = FuzzyExtractor(total_length, error_precision)"
   ]
  },
  {
   "cell_type": "markdown",
   "metadata": {},
   "source": [
    "# what if we add some permutation? User-specific?"
   ]
  },
  {
   "cell_type": "code",
   "execution_count": 7,
   "metadata": {},
   "outputs": [
    {
     "name": "stderr",
     "output_type": "stream",
     "text": [
      "100%|██████████| 158/158 [00:00<00:00, 11785.73it/s]\n"
     ]
    }
   ],
   "source": [
    "perms=[]\n",
    "for i in tqdm.tqdm(range(158)):\n",
    "    perms.append(np.random.permutation(range(top_score)))\n"
   ]
  },
  {
   "cell_type": "markdown",
   "metadata": {},
   "source": [
    "# 1th samples as enrollment template, remaining as testing\n",
    "# 100 users, 5 samples per user\n"
   ]
  },
  {
   "cell_type": "code",
   "execution_count": 8,
   "metadata": {},
   "outputs": [],
   "source": [
    "def randomExclude(n):\n",
    "    while True:\n",
    "        tmp = np.random.randint(0, 100, size=1)[0]\n",
    "        if tmp!=n:\n",
    "            break\n",
    "    return tmp\n",
    "\n",
    "flg=1# debug,one element \n",
    "\n",
    "\n",
    "def sub_enroll(i):\n",
    "    keys= []\n",
    "    helpers = []\n",
    "    samples = embeddings[i*5+1,:]#first sample to enroll\n",
    "   \n",
    "    if perm_feat:\n",
    "        samples = samples[perms[i]]\n",
    "    for starti in range(blocks):\n",
    "        s = samples[starti*total_length:(starti+1)*total_length]\n",
    "        # fuzzy extractor\n",
    "        key, helper = extractor.generate(s)\n",
    "        keys.append(key)\n",
    "        helpers.append(helper)\n",
    "    return keys,helpers\n",
    "\n"
   ]
  },
  {
   "cell_type": "code",
   "execution_count": 9,
   "metadata": {},
   "outputs": [
    {
     "name": "stdout",
     "output_type": "stream",
     "text": [
      "======  apply_async  ======\n",
      "Total time of Thread execution 238.932 for the function \n"
     ]
    }
   ],
   "source": [
    "# enroll\n",
    "pool = Pool(processes = 12)\n",
    "start_time=time.perf_counter()\n",
    "results = []\n",
    "for i in range(100):\n",
    "    # 维持执行的进程总数为processes，当一个进程执行完毕后会添加新的进程进去\n",
    "    r1 = pool.apply_async(sub_enroll, args=(i, ))    \n",
    "    results.append(r1)\n",
    "print('======  apply_async  ======')\n",
    "pool.close()\n",
    "#调用join之前，先调用close函数，否则会出错。执行完close后不会有新的进程加入到pool,join函数等待所有子进程结束\n",
    "pool.join()\n",
    "\n",
    "\n",
    "keys= []\n",
    "helpers = []\n",
    "    \n",
    "for i in range(100):\n",
    "    ikeys,ihelpers = results[i].get(timeout=100)\n",
    "    keys.append(ikeys)\n",
    "    helpers.append(ihelpers)\n",
    "\n",
    "end_time=time.perf_counter()\n",
    "    \n",
    "print(f\"Total time of Thread execution {round(end_time- start_time,4)} for the function \")\n"
   ]
  },
  {
   "cell_type": "markdown",
   "metadata": {},
   "source": [
    "# Query and test"
   ]
  },
  {
   "cell_type": "code",
   "execution_count": 10,
   "metadata": {},
   "outputs": [],
   "source": [
    "np.savez('keys.npy',keys)\n",
    "# np.savez('helpers.npy',helpers) #?????? why can not save?\n",
    "np.savez('fingerprint_hashcode_embeddings.npy',embeddings)"
   ]
  },
  {
   "cell_type": "code",
   "execution_count": 11,
   "metadata": {},
   "outputs": [],
   "source": [
    "def save_variable(v,filename):\n",
    "    f=open(filename,'wb')\n",
    "    pickle.dump(v,f)\n",
    "    f.close()\n",
    "    return filename\n",
    "\n",
    "def load_variavle(filename):\n",
    "   f=open(filename,'rb')\n",
    "   r=pickle.load(f)\n",
    "   f.close()\n",
    "   return r\n",
    "\n",
    "# filename = save_variable(helpers,'helpers.txt')\n",
    "# results = load_variavle('helpers.txt')\n",
    "#################################\n",
    "def sub_repro_imposter(i):\n",
    "    j = randomExclude(i)# imposter, random one\n",
    "    samples = embeddings[j*5+2,:]## using imposter biometric data, 2nd samples\n",
    "    key = keys[i]\n",
    "    helper = helpers[i]\n",
    "    # perm the hash codes\n",
    "    if perm_feat:\n",
    "        samples = samples[perms[i]]\n",
    "    positive_num=0\n",
    "    for starti in range(blocks):\n",
    "        p = samples[starti*total_length:(starti+1)*total_length]\n",
    "        # fuzzy extractor reproduce\n",
    "        r_key = extractor.reproduce(p, helper[starti])  # r_key will probably still equal key!\n",
    "        if r_key and r_key==key[starti]:\n",
    "            positive_num = positive_num+1\n",
    "    return positive_num\n",
    "\n",
    "\n",
    "def sub_repro_genuine(i):\n",
    "    samples = embeddings[i*5+2,:]\n",
    "    key = keys[i]\n",
    "    helper = helpers[i]\n",
    "\n",
    "    # perm the hash codes\n",
    "#     samples_masked = samples_masked[perms[i]]\n",
    "    if perm_feat:\n",
    "        samples = samples[perms[i]]\n",
    "    positive_num=0\n",
    "    for starti in range(blocks):        \n",
    "        p = samples[starti*total_length:(starti+1)*total_length]\n",
    "        # fuzzy extractor reproduce\n",
    "        r_key = extractor.reproduce(p, helper[starti])  # r_key will probably still equal key!\n",
    "        if r_key and r_key==key[starti]:\n",
    "            positive_num = positive_num+1\n",
    "#     print('process',i,positive_num)\n",
    "    return positive_num"
   ]
  },
  {
   "cell_type": "code",
   "execution_count": 12,
   "metadata": {},
   "outputs": [
    {
     "name": "stdout",
     "output_type": "stream",
     "text": [
      "======  apply_async  ======\n",
      "Total time of Thread execution 112.9691 for the function \n"
     ]
    }
   ],
   "source": [
    "# query\n",
    "#lets try 7th with mated\n",
    "positive_nums=[]\n",
    "\n",
    "pool = Pool(processes = 12)\n",
    "start_time=time.perf_counter()\n",
    "results = []\n",
    "for i in range(100):\n",
    "    # 维持执行的进程总数为processes，当一个进程执行完毕后会添加新的进程进去\n",
    "    r1 = pool.apply_async(sub_repro_genuine, args=(i, ))    \n",
    "    results.append(r1)\n",
    "print('======  apply_async  ======')\n",
    "pool.close()\n",
    "#调用join之前，先调用close函数，否则会出错。执行完close后不会有新的进程加入到pool,join函数等待所有子进程结束\n",
    "pool.join()\n",
    "\n",
    "\n",
    "for i in range(100):\n",
    "    positive_nums.append(results[i].get(timeout=100))\n",
    "\n",
    "end_time=time.perf_counter()\n",
    "    \n",
    "print(f\"Total time of Thread execution {round(end_time- start_time,4)} for the function \")\n",
    "# print(positive_nums)\n",
    "\n",
    "\n",
    "\n"
   ]
  },
  {
   "cell_type": "code",
   "execution_count": 41,
   "metadata": {},
   "outputs": [
    {
     "data": {
      "text/plain": [
       "32"
      ]
     },
     "execution_count": 41,
     "metadata": {},
     "output_type": "execute_result"
    }
   ],
   "source": [
    "len(keys[0])"
   ]
  },
  {
   "cell_type": "code",
   "execution_count": 39,
   "metadata": {},
   "outputs": [
    {
     "name": "stdout",
     "output_type": "stream",
     "text": [
      "16\n",
      "[250, 244, 233, 156, 160, 233, 144, 208, 113, 242, 188, 217, 44, 110, 164, 217]\n",
      "[18, 192, 98, 198, 205, 21, 113, 155, 253, 123, 191, 182, 78, 111, 150, 33]\n"
     ]
    },
    {
     "data": {
      "text/plain": [
       "333578657590542434385051203342579967193"
      ]
     },
     "execution_count": 39,
     "metadata": {},
     "output_type": "execute_result"
    }
   ],
   "source": [
    "print(len(keys[0][0]))\n",
    "list_int = [i for i in keys[0][0]]\n",
    "list_int2 = [i for i in keys[0][1]]\n",
    "print(list_int)\n",
    "print(list_int2)\n",
    "int.from_bytes(list_int, \"big\") "
   ]
  },
  {
   "cell_type": "markdown",
   "metadata": {},
   "source": [
    "# imposter"
   ]
  },
  {
   "cell_type": "markdown",
   "metadata": {},
   "source": [
    "## imposter knows "
   ]
  },
  {
   "cell_type": "code",
   "execution_count": 13,
   "metadata": {},
   "outputs": [
    {
     "name": "stdout",
     "output_type": "stream",
     "text": [
      "======  apply_async  ======\n",
      "Total time of Thread execution 127.784 for the function \n"
     ]
    }
   ],
   "source": [
    "false_positive_nums = []\n",
    "pool = Pool(processes = 12)\n",
    "start_time=time.perf_counter()\n",
    "results = []\n",
    "for i in range(100):\n",
    "    # 维持执行的进程总数为processes，当一个进程执行完毕后会添加新的进程进去\n",
    "    r1 = pool.apply_async(sub_repro_imposter, args=(i, ))    \n",
    "    results.append(r1)\n",
    "print('======  apply_async  ======')\n",
    "pool.close()\n",
    "#调用join之前，先调用close函数，否则会出错。执行完close后不会有新的进程加入到pool,join函数等待所有子进程结束\n",
    "pool.join()\n",
    "\n",
    "\n",
    "for i in range(100):\n",
    "    false_positive_nums.append(results[i].get(timeout=100))\n",
    "\n",
    "end_time=time.perf_counter()\n",
    "    \n",
    "print(f\"Total time of Thread execution {round(end_time- start_time,4)} for the function \")\n"
   ]
  },
  {
   "cell_type": "code",
   "execution_count": null,
   "metadata": {},
   "outputs": [],
   "source": []
  },
  {
   "cell_type": "code",
   "execution_count": 14,
   "metadata": {
    "scrolled": true
   },
   "outputs": [
    {
     "name": "stdout",
     "output_type": "stream",
     "text": [
      "[17, 20, 27, 13, 25, 20, 28, 23, 23, 32, 25, 27, 30, 20, 25, 26, 30, 19, 30, 27, 25, 30, 25, 31, 25, 24, 12, 25, 24, 31, 25, 7, 18, 7, 27, 25, 31, 24, 30, 31, 24, 21, 14, 25, 10, 25, 32, 31, 17, 25, 31, 31, 27, 25, 26, 29, 27, 26, 26, 24, 32, 27, 26, 26, 29, 24, 19, 4, 17, 24, 22, 30, 29, 31, 31, 30, 31, 31, 29, 23, 21, 25, 25, 30, 26, 25, 29, 26, 10, 26, 16, 29, 30, 3, 30, 32, 23, 23, 19, 21]\n",
      "[1, 0, 1, 2, 1, 0, 1, 0, 0, 1, 2, 0, 0, 0, 1, 0, 0, 0, 0, 3, 2, 0, 0, 0, 0, 1, 0, 0, 1, 1, 0, 0, 0, 0, 0, 0, 0, 1, 0, 1, 0, 0, 0, 0, 0, 1, 1, 1, 0, 1, 2, 2, 0, 0, 0, 0, 0, 0, 1, 1, 1, 1, 0, 0, 1, 1, 1, 1, 1, 0, 0, 0, 1, 1, 1, 1, 0, 1, 1, 1, 0, 0, 0, 1, 1, 0, 0, 1, 0, 0, 1, 1, 1, 3, 0, 2, 0, 0, 0, 1]\n",
      "None\n",
      "blocks 32\n",
      "threshold1: 4\n",
      "tpr,fpr 0.99 0.0\n"
     ]
    }
   ],
   "source": [
    "print(positive_nums)\n",
    "# print(false_positive_nums)\n",
    "print(print(false_positive_nums))\n",
    "print('blocks',blocks)\n",
    "# print(false_positive_nums2)\n",
    "threshold1 = max(false_positive_nums)+1\n",
    "# threshold = 1\n",
    "print('threshold1:',threshold1)\n",
    "positive_nums = np.array(positive_nums)\n",
    "false_positive_nums = np.array(false_positive_nums)\n",
    "\n",
    "## \n",
    "tpr = sum(positive_nums>=threshold1)/len(positive_nums)\n",
    "fpr = sum(false_positive_nums>=threshold1)/len(false_positive_nums)\n",
    "\n",
    "print('tpr,fpr',tpr,fpr)\n"
   ]
  },
  {
   "cell_type": "code",
   "execution_count": 19,
   "metadata": {},
   "outputs": [
    {
     "data": {
      "text/plain": [
       "0.76375"
      ]
     },
     "execution_count": 19,
     "metadata": {},
     "output_type": "execute_result"
    }
   ],
   "source": [
    "sum(positive_nums)/32/100"
   ]
  },
  {
   "cell_type": "code",
   "execution_count": 15,
   "metadata": {},
   "outputs": [
    {
     "data": {
      "image/png": "[encoded data removed]",
      "text/plain": [
       "<Figure size 1152x432 with 1 Axes>"
      ]
     },
     "metadata": {
      "needs_background": "light"
     },
     "output_type": "display_data"
    }
   ],
   "source": [
    "import numpy as np\n",
    "import matplotlib.pyplot as plt\n",
    "fig = plt.figure(figsize=(16,6)) #创建幕布\n",
    "ax = fig.add_subplot(121) #截取幕布的一部分，121是简写，表示1行2列中的第1个图\n",
    "ns,edgeBin,patches = plt.hist(positive_nums,bins=30,rwidth=1)\n",
    "ns,edgeBin,patches = plt.hist(false_positive_nums,bins=30,rwidth=1)\n"
   ]
  },
  {
   "cell_type": "markdown",
   "metadata": {},
   "source": [
    "# result 0FAR\n"
   ]
  },
  {
   "cell_type": "code",
   "execution_count": null,
   "metadata": {},
   "outputs": [],
   "source": []
  }
 ],
 "metadata": {
  "kernelspec": {
   "display_name": "Python 3",
   "language": "python",
   "name": "python3"
  },
  "language_info": {
   "codemirror_mode": {
    "name": "ipython",
    "version": 3
   },
   "file_extension": ".py",
   "mimetype": "text/x-python",
   "name": "python",
   "nbconvert_exporter": "python",
   "pygments_lexer": "ipython3",
   "version": "3.8.3"
  }
 },
 "nbformat": 4,
 "nbformat_minor": 2
}
