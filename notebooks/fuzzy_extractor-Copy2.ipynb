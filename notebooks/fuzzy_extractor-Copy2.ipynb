{
 "cells": [
  {
   "cell_type": "code",
   "execution_count": 1,
   "metadata": {},
   "outputs": [],
   "source": [
    "# !pip install ../pyldpc\n",
    "# !pip install pyeer"
   ]
  },
  {
   "cell_type": "code",
   "execution_count": 2,
   "metadata": {},
   "outputs": [],
   "source": [
    "import numpy as np\n",
    "import pandas as pd\n",
    "import hashlib\n",
    "import random\n",
    "import sys\n",
    "sys.path.append(\"../\")\n",
    "# from python_fuzzy_extractor.fuzzy_extractor import FuzzyExtractor\n",
    "from python_fuzzy_extractor.fuzzy_extractor_LDPC import FuzzyExtractorLDPC as FuzzyExtractor\n",
    "from entropy import Entropy\n",
    "import tqdm\n",
    "from joblib import Parallel, delayed\n",
    "import multiprocessing\n",
    "import pickle\n",
    "import itertools\n",
    "from verification import computeAccuracyROC\n",
    "from multiprocessing import Pool\n",
    "import time\n",
    "# from fuzzy_extractor import FuzzyExtractor\n",
    "\n",
    "from pyeer.eer_info import get_eer_stats\n",
    "from pyeer.report import generate_eer_report, export_error_rates\n",
    "from pyeer.plot import plot_eer_stats\n",
    "import matplotlib.pyplot as pyplot\n"
   ]
  },
  {
   "cell_type": "code",
   "execution_count": 3,
   "metadata": {},
   "outputs": [],
   "source": [
    "# paramters\n",
    "# enroll\n",
    "total_length = 16 # length of input of fuzzy extractor\n",
    "#The number of bits that can be flipped in the source value and \n",
    "# still produce the same key with probability (1 - rep_err).\n",
    "error_precision = 8\n",
    "top_score = 128# factor of 16\n",
    "blocks = int(top_score / total_length)\n",
    "using_max_entropy_or_random_perm = True\n",
    "perm_feat = False# use perm for each user?"
   ]
  },
  {
   "cell_type": "markdown",
   "metadata": {},
   "source": [
    "# Define IoM hashing"
   ]
  },
  {
   "cell_type": "code",
   "execution_count": 4,
   "metadata": {},
   "outputs": [],
   "source": [
    "def genW(n,q,m):# m, hashcode length, q sub-dimentsion n data dimension\n",
    "    return np.random.rand(m,n,q)\n",
    "\n",
    "def IoMhashing(x,ws):\n",
    "    para = np.shape(ws)\n",
    "    hashcode = np.zeros(para[0])\n",
    "    for i in range(para[0]):\n",
    "        hashcode[i] = np.argmax(np.matmul(x,ws[i]))\n",
    "    return hashcode\n",
    "def IoM(embeddings,ws):\n",
    "    emb_size = np.shape(embeddings)\n",
    "    hashcodes = np.zeros((emb_size[0],np.shape(ws)[0]))\n",
    "    for i in range(emb_size[0]):\n",
    "        hashcodes[i][:] = IoMhashing(embeddings[i],ws).astype(int)\n",
    "    return hashcodes.astype(int)\n",
    "def euclidean_distance(hashcode,hashcode2):\n",
    "    return np.linalg.norm(hashcode - hashcode2, axis=-1)/(np.linalg.norm(hashcode)+np.linalg.norm(hashcode2))\n",
    "#  n how many numbers to choose\n",
    "def nchoosek(startnum, endnum, step=1, n=1):\n",
    "    c = []\n",
    "    for i in itertools.combinations(range(startnum,endnum+1,step),n):\n",
    "        c.append(list(i))\n",
    "    return c\n",
    "\n"
   ]
  },
  {
   "cell_type": "code",
   "execution_count": 5,
   "metadata": {},
   "outputs": [],
   "source": [
    "# embeddings = np.loadtxt('integerhashingcodes_embeddings_FVC2002_DB1_A_8x512.csv', dtype='int', delimiter=',')#512, binary\n",
    "embeddings_kpca = np.loadtxt('data/kpca_embeddings_FVC2002_DB1.csv', dtype='float', delimiter=',')#512, binary"
   ]
  },
  {
   "cell_type": "code",
   "execution_count": 6,
   "metadata": {},
   "outputs": [],
   "source": [
    "# test EER\n",
    "def generateMatchingScores(embeddings):\n",
    "    gen = [];\n",
    "    combination = nchoosek(0,4, n=2)\n",
    "    for i in range(100):\n",
    "        for j in range(len(combination)):\n",
    "            template1 = embeddings[(5*(i-1)+combination[j][0]),:]\n",
    "            template2 = embeddings[(5*(i-1)+combination[j][1]),:]\n",
    "            D=1- euclidean_distance(template1,template2)\n",
    "            gen.append(D)\n",
    "    imp = [];\n",
    "    combination = nchoosek(0,99, n=2)\n",
    "    for i in range(len(combination)):\n",
    "        template1 = embeddings[(5*(combination[i][0]-1)+1),:]\n",
    "        template2 = embeddings[(5*(combination[i][1]-1)+1),:]\n",
    "        D=1 - euclidean_distance(template1,template2)\n",
    "        imp.append(D)\n",
    "    return (gen,imp)"
   ]
  },
  {
   "cell_type": "markdown",
   "metadata": {},
   "source": [
    "# Perforamnce of KPCA"
   ]
  },
  {
   "cell_type": "code",
   "execution_count": 7,
   "metadata": {},
   "outputs": [
    {
     "name": "stdout",
     "output_type": "stream",
     "text": [
      "0.13080808080808082 %\n"
     ]
    },
    {
     "data": {
      "text/plain": [
       "<matplotlib.legend.Legend at 0x7fa5aa00e7f0>"
      ]
     },
     "execution_count": 7,
     "metadata": {},
     "output_type": "execute_result"
    },
    {
     "data": {
      "image/png": "[encoded data removed]",
      "text/plain": [
       "<Figure size 432x288 with 1 Axes>"
      ]
     },
     "metadata": {
      "needs_background": "light"
     },
     "output_type": "display_data"
    }
   ],
   "source": [
    "gen,imp = generateMatchingScores(embeddings_kpca)\n",
    "stats_a = get_eer_stats(gen,imp)\n",
    "print(stats_a.eer*100,'%')\n",
    "# generate_eer_report([stats_a], ['A'], 'pyeer_report.csv')\n",
    "plot_eer_stats([stats_a], ['A'])\n",
    "\n",
    "bins = np.linspace(0, 1, 100)\n",
    "pyplot.hist(gen, bins, alpha=0.5, label='gen')\n",
    "pyplot.hist(imp, bins, alpha=0.5, label='imp')\n",
    "pyplot.legend(loc='upper right')\n"
   ]
  },
  {
   "cell_type": "markdown",
   "metadata": {},
   "source": [
    "# Performance of IoM"
   ]
  },
  {
   "cell_type": "code",
   "execution_count": 8,
   "metadata": {},
   "outputs": [
    {
     "name": "stdout",
     "output_type": "stream",
     "text": [
      "0.592929292929293 %\n"
     ]
    },
    {
     "data": {
      "text/plain": [
       "<matplotlib.legend.Legend at 0x7fa5a9e18d90>"
      ]
     },
     "execution_count": 8,
     "metadata": {},
     "output_type": "execute_result"
    },
    {
     "data": {
      "image/png": "[encoded data removed]",
      "text/plain": [
       "<Figure size 432x288 with 1 Axes>"
      ]
     },
     "metadata": {
      "needs_background": "light"
     },
     "output_type": "display_data"
    }
   ],
   "source": [
    "num_user, dx = np.shape(embeddings_kpca)\n",
    "W = genW(dx,8,512)\n",
    "embeddings_iom = IoM(embeddings_kpca,W)\n",
    "\n",
    "gen,imp = generateMatchingScores(embeddings_iom)\n",
    "stats_a = get_eer_stats(gen,imp)\n",
    "print(stats_a.eer*100,'%')\n",
    "# generate_eer_report([stats_a], ['A'], 'pyeer_report.csv')\n",
    "plot_eer_stats([stats_a], ['A'])\n",
    "\n",
    "bins = np.linspace(0, 1, 100)\n",
    "pyplot.hist(gen, bins, alpha=0.5, label='gen')\n",
    "pyplot.hist(imp, bins, alpha=0.5, label='imp')\n",
    "pyplot.legend(loc='upper right')\n"
   ]
  },
  {
   "cell_type": "code",
   "execution_count": 9,
   "metadata": {},
   "outputs": [],
   "source": [
    "# # convert into binary array\n",
    "# def bin_array(num, m):\n",
    "#     \"\"\"Convert a positive integer num into an m-bit bit vector\"\"\"\n",
    "#     return np.array(list(np.binary_repr(num).zfill(m))).astype(np.int8)\n",
    "# def binary_to_decimal(binary):\n",
    "#     i,integer = 0,0\n",
    "#     size = len(binary)\n",
    "#     while i < len(binary):\n",
    "#         integer += int(binary[size - 1 - i])*pow(2,i)\n",
    "#         i+=1\n",
    "#     return integer\n",
    "\n",
    "# size = np.shape(embeddings)\n",
    "# embeddings_bin =  np.zeros((size[0],size[1]*8))\n",
    "# for i in range(500):\n",
    "#     embeddings_bin[i][:] = np.array([bin_array(m,8) for m in embeddings[i]]).reshape(-1)\n",
    "\n",
    "# embeddings = embeddings_bin.astype(np.int8)\n",
    "# # size = np.shape(embeddings)\n",
    "# # embeddings_16x64 =  np.zeros((size[0],size[1]*8))\n",
    "# # for i in range(500):\n",
    "# #     this_bin = np.array([bin_array(m,8) for m in embeddings[i]]).reshape(-1)\n",
    "# #     embeddings_bin[i][:] = this_bin\n",
    "# # # embeddings_bin = [bin_array(m,8) for m in embeddings]\n"
   ]
  },
  {
   "cell_type": "code",
   "execution_count": 10,
   "metadata": {},
   "outputs": [],
   "source": [
    "extractor = FuzzyExtractor(total_length, error_precision)"
   ]
  },
  {
   "cell_type": "markdown",
   "metadata": {},
   "source": [
    "# For each user, generate mask from first 3 samples"
   ]
  },
  {
   "cell_type": "code",
   "execution_count": 11,
   "metadata": {},
   "outputs": [
    {
     "name": "stderr",
     "output_type": "stream",
     "text": [
      "100%|██████████| 100/100 [00:22<00:00,  4.43it/s]\n"
     ]
    }
   ],
   "source": [
    "mess_len = embeddings_iom.shape[1]\n",
    "masks=[]\n",
    "for i in tqdm.tqdm(range(100)):\n",
    "    samples = embeddings_iom[i*5:i*5+3,:]\n",
    "    entropy_scores = []\n",
    "    for i in range(mess_len):\n",
    "        entropy_scores.append(Entropy(samples[:,i]))\n",
    "    entropy_scores_sort_idx = np.argsort(entropy_scores)\n",
    "    if using_max_entropy_or_random_perm:\n",
    "        remain_idx =np.array(entropy_scores_sort_idx, dtype=np.uint8)\n",
    "    else:\n",
    "        remain_idx =np.random.permutation(range(512))# if randomly generate index?\n",
    "    masks.append(remain_idx)"
   ]
  },
  {
   "cell_type": "markdown",
   "metadata": {},
   "source": [
    "# what if we add some permutation? User-specific?"
   ]
  },
  {
   "cell_type": "code",
   "execution_count": 12,
   "metadata": {},
   "outputs": [
    {
     "name": "stderr",
     "output_type": "stream",
     "text": [
      "100%|██████████| 100/100 [00:00<00:00, 24170.48it/s]\n"
     ]
    }
   ],
   "source": [
    "perms=[]\n",
    "for i in tqdm.tqdm(range(100)):\n",
    "    perms.append(np.random.permutation(range(top_score)))\n"
   ]
  },
  {
   "cell_type": "markdown",
   "metadata": {},
   "source": [
    "# 4th samples as enrollment template, 5 as testing"
   ]
  },
  {
   "cell_type": "code",
   "execution_count": 13,
   "metadata": {},
   "outputs": [],
   "source": [
    "def randomExclude(n):\n",
    "    while True:\n",
    "        tmp = np.random.randint(0, 100, size=1)[0]\n",
    "        if tmp!=n:\n",
    "            break\n",
    "    return tmp\n",
    "\n",
    "flg=1# debug,one element \n",
    "\n",
    "\n",
    "def sub_enroll(i):\n",
    "    keys= []\n",
    "    helpers = []\n",
    "    samples = embeddings_iom[i*5+3,:]\n",
    "    mask = masks[i][:top_score]\n",
    "    samples_masked = samples[mask]\n",
    "#     print(samples_masked)\n",
    "#     samples_masked = np.array([binary_to_decimal(samples_masked[idx*8:(idx+1)*8]) for idx in range(16)])\n",
    "    # perm the hash codes\n",
    "    if perm_feat:\n",
    "        samples_masked = samples_masked[perms[i]]\n",
    "    for starti in range(blocks):\n",
    "        s = samples_masked[starti*total_length:(starti+1)*total_length]\n",
    "        # fuzzy extractor\n",
    "        key, helper = extractor.generate(s)\n",
    "        keys.append(key)\n",
    "        helpers.append(helper)\n",
    "    return keys,helpers\n",
    "\n"
   ]
  },
  {
   "cell_type": "code",
   "execution_count": null,
   "metadata": {},
   "outputs": [
    {
     "name": "stdout",
     "output_type": "stream",
     "text": [
      "======  apply_async  ======\n"
     ]
    }
   ],
   "source": [
    "# enroll\n",
    "pool = Pool(processes = 12)\n",
    "start_time=time.perf_counter()\n",
    "results = []\n",
    "for i in range(100):\n",
    "    # 维持执行的进程总数为processes，当一个进程执行完毕后会添加新的进程进去\n",
    "    r1 = pool.apply_async(sub_enroll, args=(i, ))    \n",
    "    results.append(r1)\n",
    "print('======  apply_async  ======')\n",
    "pool.close()\n",
    "#调用join之前，先调用close函数，否则会出错。执行完close后不会有新的进程加入到pool,join函数等待所有子进程结束\n",
    "pool.join()\n",
    "\n",
    "\n",
    "keys= []\n",
    "helpers = []\n",
    "    \n",
    "for i in range(100):\n",
    "    ikeys,ihelpers = results[i].get(timeout=100)\n",
    "    keys.append(ikeys)\n",
    "    helpers.append(ihelpers)\n",
    "\n",
    "end_time=time.perf_counter()\n",
    "    \n",
    "print(f\"Total time of Thread execution {round(end_time- start_time,4)} for the function \")\n"
   ]
  },
  {
   "cell_type": "markdown",
   "metadata": {},
   "source": [
    "# Query and test"
   ]
  },
  {
   "cell_type": "code",
   "execution_count": null,
   "metadata": {},
   "outputs": [],
   "source": [
    "# np.savez('masks.npy',masks)\n",
    "# np.savez('keys.npy',keys)\n",
    "# np.savez('embeddings.npy',embeddings)"
   ]
  },
  {
   "cell_type": "code",
   "execution_count": null,
   "metadata": {},
   "outputs": [],
   "source": [
    "def save_variable(v,filename):\n",
    "    f=open(filename,'wb')\n",
    "    pickle.dump(v,f)\n",
    "    f.close()\n",
    "    return filename\n",
    "\n",
    "def load_variavle(filename):\n",
    "   f=open(filename,'rb')\n",
    "   r=pickle.load(f)\n",
    "   f.close()\n",
    "   return r\n",
    "\n",
    "# filename = save_variable(helpers,'helpers.txt')\n",
    "# results = load_variavle('helpers.txt')\n",
    "#################################\n",
    "def sub_repro_imposter(i):\n",
    "    j = randomExclude(i)# imposter, random one\n",
    "    samples = embeddings_iom[j*5+4,:]## using imposter biometric data\n",
    "    mask = masks[j][:top_score]\n",
    "    samples_masked = samples[mask]\n",
    "#     samples_masked = np.array([binary_to_decimal(samples_masked[idx*8:(idx+1)*8]) for idx in range(16)])\n",
    "    key = keys[i]\n",
    "    helper = helpers[i]\n",
    "    # perm the hash codes\n",
    "    if perm_feat:\n",
    "        samples_masked = samples_masked[perms[i]]\n",
    "    positive_num=0\n",
    "    for starti in range(blocks):\n",
    "        p = samples_masked[starti*total_length:(starti+1)*total_length]\n",
    "        # fuzzy extractor reproduce\n",
    "        r_key = extractor.reproduce(p, helper[starti])  # r_key will probably still equal key!\n",
    "        if r_key and r_key==key[starti]:\n",
    "            positive_num = positive_num+1\n",
    "    return positive_num\n",
    "\n",
    "def sub_repro_imposter_disclosure_mask(i):\n",
    "    j = randomExclude(i)# imposter, random one\n",
    "    samples = embeddings_iom[j*5+4,:]## using imposter biometric data\n",
    "    mask = masks[i][:top_score]\n",
    "    samples_masked = samples[mask]\n",
    "#     samples_masked = np.array([binary_to_decimal(samples_masked[idx*8:(idx+1)*8]) for idx in range(16)])\n",
    "    key = keys[i]\n",
    "    helper = helpers[i]\n",
    "    # perm the hash codes\n",
    "    if perm_feat:\n",
    "        samples_masked = samples_masked[perms[j]]\n",
    "    positive_num=0\n",
    "    for starti in range(blocks):\n",
    "        p = samples_masked[starti*total_length:(starti+1)*total_length]\n",
    "        # fuzzy extractor reproduce\n",
    "        r_key = extractor.reproduce(p, helper[starti])  # r_key will probably still equal key!\n",
    "        if r_key and r_key==key[starti]:\n",
    "            positive_num = positive_num+1\n",
    "    return positive_num\n",
    "\n",
    "\n",
    "def sub_repro_genuine(i):\n",
    "    samples = embeddings_iom[i*5+4,:]\n",
    "    mask = masks[i][:top_score]\n",
    "    samples_masked = samples[mask]\n",
    "#     samples_masked = np.array([binary_to_decimal(samples_masked[idx*8:(idx+1)*8]) for idx in range(16)])\n",
    "\n",
    "    key = keys[i]\n",
    "    helper = helpers[i]\n",
    "\n",
    "    # perm the hash codes\n",
    "#     samples_masked = samples_masked[perms[i]]\n",
    "    if perm_feat:\n",
    "        samples_masked = samples_masked[perms[i]]\n",
    "    positive_num=0\n",
    "    for starti in range(blocks):        \n",
    "        p = samples_masked[starti*total_length:(starti+1)*total_length]\n",
    "        # fuzzy extractor reproduce\n",
    "        r_key = extractor.reproduce(p, helper[starti])  # r_key will probably still equal key!\n",
    "#         print('***********************************************')\n",
    "#         print('++++',r_key,key[starti],'******',starti)\n",
    "        if r_key and r_key==key[starti]:\n",
    "            positive_num = positive_num+1\n",
    "#         if r_key == None:\n",
    "#             continue\n",
    "#         elif abs(np.subtract(r_key, key[starti])).sum() == 0:#r_key==key[starti]\n",
    "#             positive_num = positive_num+1\n",
    "# #     print('process',i,positive_num)\n",
    "    return positive_num"
   ]
  },
  {
   "cell_type": "code",
   "execution_count": null,
   "metadata": {},
   "outputs": [],
   "source": [
    "# query\n",
    "#lets try 7th with mated\n",
    "positive_nums=[]\n",
    "\n",
    "pool = Pool(processes = 12)\n",
    "start_time=time.perf_counter()\n",
    "results = []\n",
    "for i in range(100):\n",
    "    # 维持执行的进程总数为processes，当一个进程执行完毕后会添加新的进程进去\n",
    "    r1 = pool.apply_async(sub_repro_genuine, args=(i, ))    \n",
    "    results.append(r1)\n",
    "print('======  apply_async  ======')\n",
    "pool.close()\n",
    "#调用join之前，先调用close函数，否则会出错。执行完close后不会有新的进程加入到pool,join函数等待所有子进程结束\n",
    "pool.join()\n",
    "\n",
    "\n",
    "for i in range(100):\n",
    "    positive_nums.append(results[i].get(timeout=100))\n",
    "\n",
    "end_time=time.perf_counter()\n",
    "    \n",
    "print(f\"Total time of Thread execution {round(end_time- start_time,4)} for the function \")\n",
    "# print(positive_nums)\n"
   ]
  },
  {
   "cell_type": "code",
   "execution_count": null,
   "metadata": {},
   "outputs": [],
   "source": [
    "print(sum(np.array(positive_nums)>0)/len(positive_nums))\n",
    "# positive_nums 76% wo ldpc  78 wLDPC"
   ]
  },
  {
   "cell_type": "markdown",
   "metadata": {},
   "source": [
    "# imposter"
   ]
  },
  {
   "cell_type": "markdown",
   "metadata": {},
   "source": [
    "## imposter knows "
   ]
  },
  {
   "cell_type": "code",
   "execution_count": null,
   "metadata": {},
   "outputs": [],
   "source": [
    "false_positive_nums = []\n",
    "pool = Pool(processes = 10)\n",
    "start_time=time.perf_counter()\n",
    "results = []\n",
    "for i in range(100):\n",
    "    # 维持执行的进程总数为processes，当一个进程执行完毕后会添加新的进程进去\n",
    "    r1 = pool.apply_async(sub_repro_imposter, args=(i, ))    \n",
    "    results.append(r1)\n",
    "print('======  apply_async  ======')\n",
    "pool.close()\n",
    "#调用join之前，先调用close函数，否则会出错。执行完close后不会有新的进程加入到pool,join函数等待所有子进程结束\n",
    "pool.join()\n",
    "\n",
    "\n",
    "for i in range(100):\n",
    "    false_positive_nums.append(results[i].get(timeout=100))\n",
    "\n",
    "end_time=time.perf_counter()\n",
    "    \n",
    "print(f\"Total time of Thread execution {round(end_time- start_time,4)} for the function \")\n"
   ]
  },
  {
   "cell_type": "code",
   "execution_count": null,
   "metadata": {},
   "outputs": [],
   "source": [
    "false_positive_nums_same_mask = []\n",
    "pool = Pool(processes = 12)\n",
    "start_time=time.perf_counter()\n",
    "results = []\n",
    "for i in range(100):\n",
    "    # 维持执行的进程总数为processes，当一个进程执行完毕后会添加新的进程进去\n",
    "    r1 = pool.apply_async(sub_repro_imposter_disclosure_mask, args=(i, ))    \n",
    "    results.append(r1)\n",
    "print('======  apply_async  ======')\n",
    "pool.close()\n",
    "#调用join之前，先调用close函数，否则会出错。执行完close后不会有新的进程加入到pool,join函数等待所有子进程结束\n",
    "pool.join()\n",
    "\n",
    "\n",
    "for i in range(100):\n",
    "    false_positive_nums_same_mask.append(results[i].get(timeout=100))\n",
    "\n",
    "end_time=time.perf_counter()\n",
    "    \n",
    "print(f\"Total time of Thread execution {round(end_time- start_time,4)} for the function \")\n"
   ]
  },
  {
   "cell_type": "code",
   "execution_count": null,
   "metadata": {
    "scrolled": true
   },
   "outputs": [],
   "source": [
    "print(positive_nums)\n",
    "# print(false_positive_nums)\n",
    "print(false_positive_nums_same_mask)\n",
    "print(false_positive_nums)\n",
    "print('blocks',blocks)\n",
    "# print(false_positive_nums2)\n",
    "threshold1 = max(false_positive_nums)+1\n",
    "threshold2 = max(false_positive_nums_same_mask)+1\n",
    "# threshold = 1\n",
    "print('threshold1:',threshold1)\n",
    "print('threshold2:',threshold2)\n",
    "positive_nums = np.array(positive_nums)\n",
    "# false_positive_nums = np.array(false_positive_nums)\n",
    "false_positive_nums = np.array(false_positive_nums)\n",
    "false_positive_nums_same_mask = np.array(false_positive_nums_same_mask)\n",
    "\n",
    "## \n",
    "tpr = sum(positive_nums>=threshold1)/len(positive_nums)\n",
    "fpr = sum(false_positive_nums>=threshold1)/len(false_positive_nums)\n",
    "\n",
    "print('tpr,fpr',tpr,fpr)\n",
    "\n",
    "## \n",
    "tpr = sum(positive_nums>=threshold2)/len(positive_nums)\n",
    "fpr_same_mask = sum(false_positive_nums_same_mask>=threshold2)/len(false_positive_nums_same_mask)\n",
    "\n",
    "print('tpr,fpr_samemask',tpr,fpr_same_mask)"
   ]
  },
  {
   "cell_type": "code",
   "execution_count": null,
   "metadata": {},
   "outputs": [],
   "source": [
    "import numpy as np\n",
    "import matplotlib.pyplot as plt\n",
    "fig = plt.figure(figsize=(16,6)) #创建幕布\n",
    "ax = fig.add_subplot(121) #截取幕布的一部分，121是简写，表示1行2列中的第1个图\n",
    "ns,edgeBin,patches = plt.hist(positive_nums,bins=30,rwidth=1)\n",
    "ns,edgeBin,patches = plt.hist(false_positive_nums,bins=30,rwidth=1)\n"
   ]
  },
  {
   "cell_type": "code",
   "execution_count": null,
   "metadata": {},
   "outputs": [],
   "source": [
    "fig = plt.figure(figsize=(16,6)) #创建幕布\n",
    "ax = fig.add_subplot(121) #截取幕布的一部分，121是简写，表示1行2列中的第1个图\n",
    "ns,edgeBin,patchesshape = plt.hist(positive_nums,bins=30,rwidth=1)\n",
    "ns,edgeBin,patches = plt.hist(false_positive_nums_same_mask,bins=30,rwidth=1)\n"
   ]
  },
  {
   "cell_type": "markdown",
   "metadata": {},
   "source": [
    "# result 0FAR\n"
   ]
  },
  {
   "cell_type": "code",
   "execution_count": null,
   "metadata": {},
   "outputs": [],
   "source": []
  }
 ],
 "metadata": {
  "kernelspec": {
   "display_name": "Python 3",
   "language": "python",
   "name": "python3"
  },
  "language_info": {
   "codemirror_mode": {
    "name": "ipython",
    "version": 3
   },
   "file_extension": ".py",
   "mimetype": "text/x-python",
   "name": "python",
   "nbconvert_exporter": "python",
   "pygments_lexer": "ipython3",
   "version": "3.8.3"
  }
 },
 "nbformat": 4,
 "nbformat_minor": 2
}
